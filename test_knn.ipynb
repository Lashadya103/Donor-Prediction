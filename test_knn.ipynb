{
  "nbformat": 4,
  "nbformat_minor": 0,
  "metadata": {
    "colab": {
      "provenance": []
    },
    "kernelspec": {
      "name": "python3",
      "display_name": "Python 3"
    },
    "language_info": {
      "name": "python"
    }
  },
  "cells": [
    {
      "cell_type": "code",
      "source": [
        "# Libraries\n",
        "from sklearn.model_selection import train_test_split       # Split our data into train and test sets where feature variables are given as input in the method.\n",
        "import pandas as pd                                        # Bring pandas data analysis to Python\n",
        "from sklearn.neighbors import KNeighborsClassifier         # Used to get functionalities to calculate KNN\n",
        "import  numpy as np                                        # Used to working with arrays"
      ],
      "metadata": {
        "id": "2AESQoKF-mVo"
      },
      "execution_count": null,
      "outputs": []
    },
    {
      "cell_type": "code",
      "source": [
        "# Import the dataset that we analyse\n",
        "from google.colab import files\n",
        "uploaded = files.upload()"
      ],
      "metadata": {
        "id": "n6U7m1_9bRHA"
      },
      "execution_count": null,
      "outputs": []
    },
    {
      "cell_type": "code",
      "source": [
        "# To store the dataset in Pandas dataframe\n",
        "import io\n",
        "df = pd.read_excel(io.BytesIO(uploaded['donor-selected.xlsx']))\n",
        "print(df)"
      ],
      "metadata": {
        "id": "ntDpaYNVbeBF",
        "colab": {
          "base_uri": "https://localhost:8080/"
        },
        "outputId": "fca56d52-1640-465c-f6f2-6fd007282d39"
      },
      "execution_count": null,
      "outputs": [
        {
          "output_type": "stream",
          "name": "stdout",
          "text": [
            "    TARGET_B  DONOR_AGE  PER_CAPITA_INCOME\n",
            "0          0         87              11855\n",
            "1          1         79              10385\n",
            "2          0         75              30855\n",
            "3          0         39              16342\n",
            "4          0         74              12107\n",
            "..       ...        ...                ...\n",
            "95         1         87              17761\n",
            "96         0          7              17179\n",
            "97         0         17              10244\n",
            "98         0         86              37099\n",
            "99         0         52              20273\n",
            "\n",
            "[100 rows x 3 columns]\n"
          ]
        }
      ]
    },
    {
      "cell_type": "code",
      "source": [
        "# K-Nearest Neighbors /splitting dataset into two parts as x and y, x represents DONOR_AGE and INCOME, y represents Target_B\n",
        "X = df.iloc[:, [1, 2]].values\n",
        "y = df.iloc[:, 0].values\n",
        "print(X)\n",
        "print(y)"
      ],
      "metadata": {
        "id": "69HL9hq-kWN3",
        "colab": {
          "base_uri": "https://localhost:8080/"
        },
        "outputId": "cae08b0f-5c6f-4f62-f42b-a4d4ba8bafc4"
      },
      "execution_count": null,
      "outputs": [
        {
          "output_type": "stream",
          "name": "stdout",
          "text": [
            "[[   87 11855]\n",
            " [   79 10385]\n",
            " [   75 30855]\n",
            " [   39 16342]\n",
            " [   74 12107]\n",
            " [   63  6851]\n",
            " [   71  5900]\n",
            " [   79 12667]\n",
            " [   41  8132]\n",
            " [   63 11428]\n",
            " [   43  6519]\n",
            " [   87  9042]\n",
            " [   55 13841]\n",
            " [   77 12671]\n",
            " [   37 10221]\n",
            " [   73 12426]\n",
            " [   81 12208]\n",
            " [   76 13079]\n",
            " [   75 19388]\n",
            " [   69 13347]\n",
            " [   45 20210]\n",
            " [   71 29771]\n",
            " [   43 13619]\n",
            " [   87 10469]\n",
            " [   55  9807]\n",
            " [   77 24742]\n",
            " [   37 27674]\n",
            " [   52 13018]\n",
            " [   30 18212]\n",
            " [   43  9742]\n",
            " [   77  5016]\n",
            " [   67 16041]\n",
            " [   37 42851]\n",
            " [   67 12605]\n",
            " [   65 22959]\n",
            " [   77 14394]\n",
            " [   59 18262]\n",
            " [   75 17885]\n",
            " [   42 14366]\n",
            " [   72  8371]\n",
            " [   76 21808]\n",
            " [   33 14123]\n",
            " [   79 27547]\n",
            " [   58 15150]\n",
            " [   38  9591]\n",
            " [   47 13576]\n",
            " [   45 14928]\n",
            " [   56 10050]\n",
            " [   80 16023]\n",
            " [   82 10815]\n",
            " [   82 16782]\n",
            " [   64 13025]\n",
            " [   49 19249]\n",
            " [   75 32344]\n",
            " [   61 11878]\n",
            " [   58  9958]\n",
            " [   48 20091]\n",
            " [   85  9343]\n",
            " [   51  9717]\n",
            " [   59 19730]\n",
            " [   47 30842]\n",
            " [   49 17008]\n",
            " [   76  8520]\n",
            " [   80 14751]\n",
            " [   42 17493]\n",
            " [   70 19935]\n",
            " [   54 14765]\n",
            " [   66 17769]\n",
            " [   56 11819]\n",
            " [   52 10580]\n",
            " [   81 24571]\n",
            " [   70  5381]\n",
            " [   63 21294]\n",
            " [   40 16840]\n",
            " [   32 18663]\n",
            " [   53 13642]\n",
            " [   57 14082]\n",
            " [   82 18534]\n",
            " [   79 26427]\n",
            " [   73 21162]\n",
            " [   45  7839]\n",
            " [   86 13429]\n",
            " [   78 10149]\n",
            " [   75 28012]\n",
            " [   54 15080]\n",
            " [   33 13430]\n",
            " [   75 12319]\n",
            " [   73 10744]\n",
            " [   39 15314]\n",
            " [   60 12793]\n",
            " [   67 18081]\n",
            " [   67 18534]\n",
            " [   52 13209]\n",
            " [   49 13208]\n",
            " [   71 12400]\n",
            " [   87 17761]\n",
            " [    7 17179]\n",
            " [   17 10244]\n",
            " [   86 37099]\n",
            " [   52 20273]]\n",
            "[0 1 0 0 0 0 0 1 0 1 0 0 0 0 1 0 1 0 0 0 1 0 0 1 0 1 1 0 1 0 0 0 0 1 0 0 1\n",
            " 1 0 0 0 1 1 1 0 1 0 1 0 0 1 0 0 0 1 0 0 1 1 0 0 1 0 1 0 0 0 0 0 0 1 0 0 0\n",
            " 1 0 0 1 1 0 0 0 0 0 0 0 1 1 0 0 1 0 1 0 1 1 0 0 0 0]\n"
          ]
        }
      ]
    },
    {
      "cell_type": "code",
      "source": [
        "# Splitting the dataset into the 80% Training set and 20% Test set and print training set x values\n",
        "X_train, X_test, y_train, y_test = train_test_split(X,y,random_state=0,train_size=0.8)\n",
        "print(X_train)"
      ],
      "metadata": {
        "id": "HyXOsp_Vmrrn",
        "colab": {
          "base_uri": "https://localhost:8080/"
        },
        "outputId": "636f1c73-73b0-4456-d73d-860438de6fb7"
      },
      "execution_count": null,
      "outputs": [
        {
          "output_type": "stream",
          "name": "stdout",
          "text": [
            "[[   58 15150]\n",
            " [   76  8520]\n",
            " [   39 16342]\n",
            " [   70  5381]\n",
            " [   47 13576]\n",
            " [   80 16023]\n",
            " [   71  5900]\n",
            " [   52 20273]\n",
            " [   78 10149]\n",
            " [   57 14082]\n",
            " [   47 30842]\n",
            " [   45  7839]\n",
            " [   67 18081]\n",
            " [   56 11819]\n",
            " [   64 13025]\n",
            " [   52 13018]\n",
            " [   75 19388]\n",
            " [   48 20091]\n",
            " [   80 14751]\n",
            " [   32 18663]\n",
            " [   79 10385]\n",
            " [   49 17008]\n",
            " [   79 27547]\n",
            " [   33 14123]\n",
            " [   74 12107]\n",
            " [   73 12426]\n",
            " [   76 13079]\n",
            " [   76 21808]\n",
            " [   42 14366]\n",
            " [   63  6851]\n",
            " [   67 18534]\n",
            " [   59 19730]\n",
            " [   87 11855]\n",
            " [   65 22959]\n",
            " [   30 18212]\n",
            " [   82 16782]\n",
            " [   87  9042]\n",
            " [   77 14394]\n",
            " [   87 10469]\n",
            " [   49 19249]\n",
            " [   43  6519]\n",
            " [   67 16041]\n",
            " [   54 14765]\n",
            " [   85  9343]\n",
            " [   73 21162]\n",
            " [   33 13430]\n",
            " [   37 42851]\n",
            " [   54 15080]\n",
            " [   37 10221]\n",
            " [   60 12793]\n",
            " [   69 13347]\n",
            " [   43  9742]\n",
            " [   82 10815]\n",
            " [   17 10244]\n",
            " [   86 37099]\n",
            " [   52 10580]\n",
            " [   45 20210]\n",
            " [   71 12400]\n",
            " [   63 21294]\n",
            " [   82 18534]\n",
            " [   77 24742]\n",
            " [   75 17885]\n",
            " [   86 13429]\n",
            " [   45 14928]\n",
            " [   72  8371]\n",
            " [   70 19935]\n",
            " [   51  9717]\n",
            " [   55 13841]\n",
            " [   39 15314]\n",
            " [   81 24571]\n",
            " [   73 10744]\n",
            " [   59 18262]\n",
            " [   71 29771]\n",
            " [   75 28012]\n",
            " [   63 11428]\n",
            " [    7 17179]\n",
            " [   66 17769]\n",
            " [   42 17493]\n",
            " [   56 10050]\n",
            " [   38  9591]]\n"
          ]
        }
      ]
    },
    {
      "cell_type": "code",
      "source": [
        "# Feature Scaling\n",
        "# Feature Scaling is used because the ranges are high and since the income has larger values it will dominate the dataset.\n",
        "# So the scaling is used to reduce the gap between ranges and get all the values approximately from (+1)-(-1)\n",
        "# We can skip this feature scaling step and get the results as well.\n",
        "from sklearn.preprocessing import StandardScaler\n",
        "sc = StandardScaler()\n",
        "X_train = sc.fit_transform(X_train)\n",
        "X_test = sc.transform(X_test)\n",
        "print(X_train)"
      ],
      "metadata": {
        "id": "qt4-Y0LWpFXT",
        "colab": {
          "base_uri": "https://localhost:8080/"
        },
        "outputId": "f44f4df1-c48e-4ec9-ba38-fa31620e4fbb"
      },
      "execution_count": null,
      "outputs": [
        {
          "output_type": "stream",
          "name": "stdout",
          "text": [
            "[[-0.1716426  -0.09656192]\n",
            " [ 0.84970181 -1.09413581]\n",
            " [-1.24972837  0.08279073]\n",
            " [ 0.50925367 -1.56644116]\n",
            " [-0.79579752 -0.33339168]\n",
            " [ 1.07666723  0.03479283]\n",
            " [ 0.56599503 -1.48835053]\n",
            " [-0.51209074  0.67426328]\n",
            " [ 0.96318452 -0.84903055]\n",
            " [-0.22838396 -0.25725708]\n",
            " [-0.79579752  2.26451343]\n",
            " [-0.90928023 -1.19660155]\n",
            " [ 0.3390296   0.34444699]\n",
            " [-0.28512531 -0.59775628]\n",
            " [ 0.16880553 -0.41629714]\n",
            " [-0.51209074 -0.41735039]\n",
            " [ 0.79296045  0.54110296]\n",
            " [-0.73905616  0.6468789 ]\n",
            " [ 1.07666723 -0.15659691]\n",
            " [-1.64691786  0.43201683]\n",
            " [ 1.01992588 -0.81352113]\n",
            " [-0.68231481  0.18299951]\n",
            " [ 1.01992588  1.76873575]\n",
            " [-1.59017651 -0.25108807]\n",
            " [ 0.7362191  -0.55442276]\n",
            " [ 0.67947774 -0.50642486]\n",
            " [ 0.84970181 -0.4081721 ]\n",
            " [ 0.84970181  0.90522496]\n",
            " [-1.0795043  -0.21452541]\n",
            " [ 0.11206418 -1.34525962]\n",
            " [ 0.3390296   0.41260702]\n",
            " [-0.11490125  0.59256153]\n",
            " [ 1.47385673 -0.59233959]\n",
            " [ 0.22554689  1.0784086 ]\n",
            " [-1.76040057  0.36415773]\n",
            " [ 1.19014994  0.14899473]\n",
            " [ 1.47385673 -1.01559379]\n",
            " [ 0.90644316 -0.21031243]\n",
            " [ 1.47385673 -0.80088219]\n",
            " [-0.68231481  0.52018852]\n",
            " [-1.02276294 -1.39521354]\n",
            " [ 0.3390296   0.03750118]\n",
            " [-0.39860803 -0.15449042]\n",
            " [ 1.36037401 -0.97030424]\n",
            " [ 0.67947774  0.80802545]\n",
            " [-1.59017651 -0.35535937]\n",
            " [-1.36321108  4.07143121]\n",
            " [-0.39860803 -0.10709437]\n",
            " [-1.36321108 -0.83819717]\n",
            " [-0.05815989 -0.4512047 ]\n",
            " [ 0.45251232 -0.36784785]\n",
            " [-1.02276294 -0.91026925]\n",
            " [ 1.19014994 -0.74882177]\n",
            " [-2.4980382  -0.83473651]\n",
            " [ 1.41711537  3.20596438]\n",
            " [-0.51209074 -0.78418073]\n",
            " [-0.90928023  0.66478407]\n",
            " [ 0.56599503 -0.51033691]\n",
            " [ 0.11206418  0.82788665]\n",
            " [ 1.19014994  0.41260702]\n",
            " [ 0.90644316  1.34668526]\n",
            " [ 0.79296045  0.31495612]\n",
            " [ 1.41711537 -0.35550983]\n",
            " [-0.90928023 -0.12996484]\n",
            " [ 0.62273638 -1.11655489]\n",
            " [ 0.50925367  0.62340657]\n",
            " [-0.5688321  -0.91403084]\n",
            " [-0.34186667 -0.29351881]\n",
            " [-1.24972837 -0.07188588]\n",
            " [ 1.13340859  1.32095598]\n",
            " [ 0.67947774 -0.75950469]\n",
            " [-0.11490125  0.37168091]\n",
            " [ 0.56599503  2.10336687]\n",
            " [ 0.79296045  1.83870134]\n",
            " [ 0.11206418 -0.65658756]\n",
            " [-3.06545176  0.2087288 ]\n",
            " [ 0.28228825  0.29750234]\n",
            " [-1.0795043   0.25597438]\n",
            " [-0.28512531 -0.86392645]\n",
            " [-1.30646972 -0.93298926]]\n"
          ]
        }
      ]
    },
    {
      "cell_type": "code",
      "source": [
        "# Applying K-NN to the Training set\n",
        "knn = KNeighborsClassifier(n_neighbors = 3,weights='uniform')  # As n_neighbors we can put any odd number. It represent how many votings get for Target_B. So to avoid tie votes for 1 and 0 we use an odd number.\n",
        "knn.fit(X_train, y_train)                                      # Distances/ weights represent the distances between the new data that we want to predict to the existing data. They are uniform"
      ],
      "metadata": {
        "id": "ppFnLiearea5",
        "colab": {
          "base_uri": "https://localhost:8080/"
        },
        "outputId": "1132eb7b-d3fa-42ef-e7d7-a5f0ba77edf4"
      },
      "execution_count": null,
      "outputs": [
        {
          "output_type": "execute_result",
          "data": {
            "text/plain": [
              "KNeighborsClassifier(n_neighbors=3)"
            ]
          },
          "metadata": {},
          "execution_count": 57
        }
      ]
    },
    {
      "cell_type": "code",
      "source": [
        "# Predicting the Test set results\n",
        "y_pred = knn.predict(X_test)\n",
        "print('Using the 20 test data to compare between Predicted and Actual values')\n",
        "print('Predicted Values',y_pred)\n",
        "print('Actual values   ',y_test)"
      ],
      "metadata": {
        "id": "HUsioaLZrxyg",
        "colab": {
          "base_uri": "https://localhost:8080/"
        },
        "outputId": "beedd382-85b8-487a-adee-0990c2c035c9"
      },
      "execution_count": null,
      "outputs": [
        {
          "output_type": "stream",
          "name": "stdout",
          "text": [
            "Using the 20 test data to compare between Predicted and Actual values\n",
            "Predicted Values [0 0 0 0 0 0 0 0 0 1 0 0 1 0 0 0 0 1 0 0]\n",
            "Actual values    [1 1 0 0 0 0 1 0 1 1 0 1 1 0 1 0 0 0 1 0]\n"
          ]
        }
      ]
    },
    {
      "cell_type": "code",
      "source": [
        "# Evaluate whether the model is good or not\n",
        "# Making the Confusion Matrix\n",
        "from sklearn.metrics import confusion_matrix\n",
        "cm = confusion_matrix(y_test, y_pred)\n",
        "print(cm)"
      ],
      "metadata": {
        "id": "tCf5tElVt175",
        "colab": {
          "base_uri": "https://localhost:8080/"
        },
        "outputId": "96b32761-4450-4f3a-baae-75ddad8c6b05"
      },
      "execution_count": null,
      "outputs": [
        {
          "output_type": "stream",
          "name": "stdout",
          "text": [
            "[[10  1]\n",
            " [ 7  2]]\n"
          ]
        }
      ]
    }
  ]
}